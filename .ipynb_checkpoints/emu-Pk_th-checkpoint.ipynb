{
 "cells": [
  {
   "cell_type": "code",
   "execution_count": 1,
   "id": "49c46731",
   "metadata": {
    "ExecuteTime": {
     "end_time": "2023-08-23T08:26:07.720201Z",
     "start_time": "2023-08-23T08:25:58.135870Z"
    }
   },
   "outputs": [],
   "source": [
    "%matplotlib inline\n",
    "%config InlineBackend.figure_format = 'retina'"
   ]
  },
  {
   "cell_type": "code",
   "execution_count": 2,
   "id": "770a070b",
   "metadata": {
    "ExecuteTime": {
     "end_time": "2023-08-23T08:26:22.037074Z",
     "start_time": "2023-08-23T08:26:22.031834Z"
    }
   },
   "outputs": [],
   "source": [
    "####### define the parameter space\n",
    "param_lim_origin = {}\n",
    "param_lim_origin['Omegab'] = [0.04, 0.06]\n",
    "param_lim_origin['H0'] = [60, 80]\n",
    "param_lim_origin['ns'] = [0.92, 1.00]\n",
    "param_lim_origin['wa'] = [-0.5, 0.5]\n",
    "param_lim_origin['mnu'] = [0, 0.3]\n",
    "param_lim_origin['w'] = [-1.3, -0.7]\n",
    "param_lim_origin['Omegam'] = [0.24, 0.40]\n",
    "param_lim_origin['A'] = [1.7, 2.5]  # 1e-9\n",
    "\n",
    "mean_samp_p18_lcdm = {'Omegab': 0.04897468,\n",
    "                      'Omegam': 0.30969282,\n",
    "                      'H0': 67.66,\n",
    "                      'A': 2.105,\n",
    "                      'ns': 0.9665,\n",
    "                      'w': -1.0,\n",
    "                      'wa': 0.0,\n",
    "                      'mnu': 0.06}"
   ]
  },
  {
   "cell_type": "code",
   "execution_count": 3,
   "id": "58e83844",
   "metadata": {
    "ExecuteTime": {
     "end_time": "2023-08-23T08:26:42.189310Z",
     "start_time": "2023-08-23T08:26:23.178864Z"
    }
   },
   "outputs": [],
   "source": [
    "import numpy as np\n",
    "import matplotlib.pyplot as plt\n",
    "from matplotlib.colors import ListedColormap, Normalize\n",
    "import scienceplots\n",
    "# import pyccl\n",
    "# from classy import Class, CosmoSevereError\n",
    "from sklearn.gaussian_process import GaussianProcessRegressor"
   ]
  },
  {
   "cell_type": "code",
   "execution_count": null,
   "id": "6ddb3cd5",
   "metadata": {
    "code_folding": []
   },
   "outputs": [],
   "source": [
    "####### trainning sample\n",
    "from scipy.stats import qmc\n",
    "from sklearn.gaussian_process.kernels import ConstantKernel, RBF, Matern, RationalQuadratic\n",
    "from sklearn.decomposition import PCA\n",
    "from copy import deepcopy\n",
    "from multiprocessing import Pool\n",
    "from functools import partial\n",
    "\n",
    "k_list = np.load('data/pk_k_list.npy')\n",
    "\n",
    "def ConstructSpaceTest(ntest=50):\n",
    "    n_param = 8\n",
    "    cosmo_train = np.load('data/cosmologies_8d_train_n129_Sobol.npy')\n",
    "    pk_cb_lin_all   = np.load('data/pk_cb_lin_train_n129_Sobol.npy') \n",
    "    pk_cb_nl_all    = np.load('data/pk_cb_nl_train_n129_Sobol.npy' )\n",
    "#     cosmo_valid = np.load('data/cosmologies_8d_validate_n1022_Sobol_scramble.npy')[:ntest, :]\n",
    "#     pk_cb_lin_outer = np.load('data/pk_cb_lin_validate_n1022_Sobol_scramble.npy')[:ntest, :,:] \n",
    "#     pk_cb_nl_outer  = np.load('data/pk_cb_nl_validate_n1022_Sobol_scramble.npy' )[:ntest, :,:]\n",
    "    cosmo_valid = np.load('data/cosmologies_8d_validate_n{:d}_LH.npy'.format(ntest))\n",
    "    pk_cb_lin_outer = np.load( 'data/pk_cb_lin_validate_n{:d}_LH.npy'.format(ntest))\n",
    "    pk_cb_nl_outer  = np.load(  'data/pk_cb_nl_validate_n{:d}_LH.npy'.format(ntest))\n",
    "    Bk_cb_all = pk_cb_nl_all/pk_cb_lin_all\n",
    "    Bk_cb_outer = pk_cb_nl_outer/pk_cb_lin_outer\n",
    "\n",
    "    def MyPredicted(para_trainning_in, para_validate_in, Bk_trainning, usePCA=False, **hyperpara):\n",
    "        ### normalize parameters\n",
    "        para_min = np.min(para_trainning_in, axis=0)\n",
    "        para_max = np.max(para_trainning_in, axis=0)\n",
    "        para_trainning = np.zeros_like(para_trainning_in)\n",
    "        para_validate  = np.zeros_like(para_validate_in)\n",
    "        for i_dim in range(para_trainning_in.shape[1]):\n",
    "            para_trainning[:,i_dim] = (para_trainning_in[:,i_dim] - para_min[i_dim])/(para_max[i_dim]-para_min[i_dim])\n",
    "            para_validate [:,i_dim] = (para_validate_in [:,i_dim] - para_min[i_dim])/(para_max[i_dim]-para_min[i_dim])\n",
    "\n",
    "        ###### GP setups\n",
    "        rand_seed = np.random.RandomState(seed=100318)\n",
    "        gpr = GaussianProcessRegressor(normalize_y=True, random_state=rand_seed, **hyperpara)\n",
    "        if usePCA:\n",
    "            nvec = 14\n",
    "            pca = PCA(n_components=nvec, svd_solver='full')\n",
    "            pca.fit(Bk_trainning);\n",
    "            Bkcoeff = pca.transform(Bk_trainning)\n",
    "    #         print(Bkcoeff.shape)\n",
    "            coeff_predited = np.zeros((para_validate.shape[0], nvec))\n",
    "            for ivec in range(nvec):\n",
    "                fitting = gpr.fit(para_trainning, Bkcoeff[:,ivec]);\n",
    "                coeff_predited[:,ivec] = gpr.predict(para_validate);\n",
    "    #             print(\"{:d}-th component: \".format(ivec), gpr.kernel_)\n",
    "            Bk_predited = pca.inverse_transform(coeff_predited);        \n",
    "        else:\n",
    "            fitting = gpr.fit(para_trainning, Bk_trainning)\n",
    "            Bk_predited = gpr.predict(para_validate)\n",
    "    #     print(gpr.kernel_)\n",
    "        return Bk_predited\n",
    "\n",
    "    kernel = ConstantKernel(2)*RBF(np.ones((n_param)), length_scale_bounds=(1e-15, 1e15))\n",
    "    # kernel = ConstantKernel(2)*Matern(np.ones((n_param)))\n",
    "    usePCA = True\n",
    "\n",
    "    # ax0 = plt.subplot(gridp[0, 0])\n",
    "    n_sample = 33\n",
    "    Bk_predicted = 10**MyPredicted(para_trainning_in=cosmo_train[:n_sample,:], \n",
    "                                   Bk_trainning=np.log10(Bk_cb_all[:n_sample,0,:]), \n",
    "                                   para_validate_in=cosmo_valid, \n",
    "                                   usePCA=usePCA, kernel=kernel, n_restarts_optimizer=10)\n",
    "    pk_cb_nl_predicted = Bk_predicted*pk_cb_lin_outer[:,0,:]\n",
    "    std_predicted1 = np.std(pk_cb_nl_predicted/pk_cb_nl_outer[:,0,:], axis=0)\n",
    "    mean_predicted1 = np.mean(pk_cb_nl_predicted/pk_cb_nl_outer[:,0,:], axis=0)\n",
    "\n",
    "    n_sample = 65\n",
    "    Bk_predicted = 10**MyPredicted(para_trainning_in=cosmo_train[:n_sample,:], \n",
    "                               Bk_trainning=np.log10(Bk_cb_all[:n_sample,0,:]), \n",
    "                               para_validate_in=cosmo_valid, \n",
    "                               usePCA=usePCA, kernel=kernel, n_restarts_optimizer=10)\n",
    "    pk_cb_nl_predicted = Bk_predicted*pk_cb_lin_outer[:,0,:]\n",
    "    std_predicted2 = np.std(pk_cb_nl_predicted/pk_cb_nl_outer[:,0,:], axis=0)\n",
    "    mean_predicted2 = np.mean(pk_cb_nl_predicted/pk_cb_nl_outer[:,0,:], axis=0)\n",
    "\n",
    "    n_sample = 129\n",
    "    Bk_predicted = 10**MyPredicted(para_trainning_in=cosmo_train[:n_sample,:], \n",
    "                               Bk_trainning=np.log10(Bk_cb_all[:n_sample,0,:]), \n",
    "                               para_validate_in=cosmo_valid, \n",
    "                               usePCA=usePCA, kernel=kernel, n_restarts_optimizer=10)\n",
    "    pk_cb_nl_predicted = Bk_predicted*pk_cb_lin_outer[:,0,:]\n",
    "    std_predicted3 = np.std(pk_cb_nl_predicted/pk_cb_nl_outer[:,0,:], axis=0)\n",
    "    mean_predicted3 = np.mean(pk_cb_nl_predicted/pk_cb_nl_outer[:,0,:], axis=0)\n",
    "    return std_predicted1, std_predicted2, std_predicted3"
   ]
  },
  {
   "cell_type": "code",
   "execution_count": null,
   "id": "97b5ba70",
   "metadata": {},
   "outputs": [],
   "source": [
    "ntest = 50\n",
    "std_predicted1, std_predicted2, std_predicted3 = ConstructSpaceTest(ntest)\n",
    "\n",
    "with plt.style.context(['science', 'no-latex']):\n",
    "    plt.plot(k_list, std_predicted1, label=\"n= 32+1\")\n",
    "    plt.plot(k_list, std_predicted2, label=\"n= 64+1\")\n",
    "    plt.plot(k_list, std_predicted3, label=\"n=128+1\")\n",
    "    plt.xscale('log')\n",
    "    plt.legend()\n",
    "    plt.title(r'$N_\\mathrm{validate} = %d$'%(ntest))\n",
    "    plt.grid('on')"
   ]
  },
  {
   "cell_type": "code",
   "execution_count": null,
   "id": "95c1a690",
   "metadata": {},
   "outputs": [],
   "source": [
    "## leave-one-out error"
   ]
  },
  {
   "cell_type": "code",
   "execution_count": null,
   "id": "52b7476f",
   "metadata": {},
   "outputs": [],
   "source": []
  }
 ],
 "metadata": {
  "kernelspec": {
   "display_name": "czlsst",
   "language": "python",
   "name": "czlsst"
  },
  "language_info": {
   "codemirror_mode": {
    "name": "ipython",
    "version": 3
   },
   "file_extension": ".py",
   "mimetype": "text/x-python",
   "name": "python",
   "nbconvert_exporter": "python",
   "pygments_lexer": "ipython3",
   "version": "3.9.7"
  },
  "latex_envs": {
   "LaTeX_envs_menu_present": true,
   "autoclose": false,
   "autocomplete": true,
   "bibliofile": "biblio.bib",
   "cite_by": "apalike",
   "current_citInitial": 1,
   "eqLabelWithNumbers": true,
   "eqNumInitial": 1,
   "hotkeys": {
    "equation": "Ctrl-E",
    "itemize": "Ctrl-I"
   },
   "labels_anchors": false,
   "latex_user_defs": false,
   "report_style_numbering": false,
   "user_envs_cfg": false
  },
  "varInspector": {
   "cols": {
    "lenName": 16,
    "lenType": 16,
    "lenVar": 40
   },
   "kernels_config": {
    "python": {
     "delete_cmd_postfix": "",
     "delete_cmd_prefix": "del ",
     "library": "var_list.py",
     "varRefreshCmd": "print(var_dic_list())"
    },
    "r": {
     "delete_cmd_postfix": ") ",
     "delete_cmd_prefix": "rm(",
     "library": "var_list.r",
     "varRefreshCmd": "cat(var_dic_list()) "
    }
   },
   "types_to_exclude": [
    "module",
    "function",
    "builtin_function_or_method",
    "instance",
    "_Feature"
   ],
   "window_display": false
  }
 },
 "nbformat": 4,
 "nbformat_minor": 5
}
